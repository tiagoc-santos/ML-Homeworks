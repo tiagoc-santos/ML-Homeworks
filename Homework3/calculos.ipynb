{
 "cells": [
  {
   "cell_type": "markdown",
   "metadata": {
    "vscode": {
     "languageId": "plaintext"
    }
   },
   "source": [
    "1."
   ]
  },
  {
   "cell_type": "code",
   "execution_count": 3,
   "metadata": {},
   "outputs": [
    {
     "name": "stdout",
     "output_type": "stream",
     "text": [
      "[[3.3159292 ]\n",
      " [0.11371681]]\n",
      "2.4655897062946104\n",
      "1.7528921540922229\n"
     ]
    }
   ],
   "source": [
    "import numpy as np\n",
    "from numpy import linalg\n",
    "\n",
    "pf = 1\n",
    "a = np.array([[1,1],[1,3],[1,6],[1,9],[1,8]])\n",
    "y = np.array([[1.25],[7],[2.7],[3.2],[5.5]])\n",
    "\n",
    "ols_results = np.dot(np.dot(linalg.inv(np.dot(a.T, a)), a.T), y)\n",
    "print(\"ols results:\\n\", ols_results)\n",
    "ridge_results = np.dot(np.dot(linalg.inv(np.dot(a.T, a) + np.dot(pf, np.identity(2))), a.T), y)\n",
    "print(\"ridge results:\\n\", ridge_results)\n",
    "def ols(x):\n",
    "    return ols_results[0] + ols_results[1] * x\n",
    "\n",
    "def ridge(x):\n",
    "    return ridge_results[0] + ridge_results[1] * x\n",
    "\n",
    "\n",
    "x6 = [4,0.7]\n",
    "x7 = [2, 1.1]\n",
    "x8 = [5, 2.2]\n",
    "variables = [x6, x7, x8]\n",
    "#ols\n",
    "predicted_ols = []\n",
    "for x in variables:\n",
    "    predicted_ols += [ols(x[0])]\n",
    "\n",
    "differences = []\n",
    "i = 0\n",
    "for x in variables:\n",
    "    differences += [predicted_ols[i] - x[1]]\n",
    "    i += 1\n",
    "\n",
    "differences = np.array(differences)\n",
    "result_ols = np.sqrt(np.dot(1/3, np.sum(differences**2)))\n",
    "print(result_ols)\n",
    "\n",
    "#ridge\n",
    "predicted_ridge = []\n",
    "for x in variables:\n",
    "    predicted_ridge += [ridge(x[0])]\n",
    "\n",
    "differences_ridge = []\n",
    "i = 0\n",
    "for x in variables:\n",
    "    differences_ridge += [predicted_ridge[i] - x[1]]\n",
    "    i += 1\n",
    "\n",
    "differences_ridge = np.array(differences_ridge)\n",
    "result_ridge = np.sqrt(np.dot(1/3, np.sum(differences_ridge**2)))\n",
    "print(result_ridge)\n",
    "\n",
    "\n",
    "b = np.array([[0.46149],[-0.69066],[0.22917]])\n",
    "c = np.array([[0.98616, 1.02072, 0.99313], [1.98616, 2.02072, 0.99313], [1.98154, 1.02763, 0.99083]])\n",
    "delta1 = np.dot(c,b)\n",
    "\n",
    "d = np.dot(delta1, np.array([[1, 1]]))\n",
    "e = np.array([[0.1, 0.1],[0.1, 0.2],[0.2, 0.1]])\n",
    "\n",
    "b1 = np.array([[0.1], [0], [0.1]])\n",
    "print(b1- np.dot(0.1, delta1))\n",
    "#print(e - np.dot(0.1, d))"
   ]
  }
 ],
 "metadata": {
  "kernelspec": {
   "display_name": "Python 3",
   "language": "python",
   "name": "python3"
  },
  "language_info": {
   "codemirror_mode": {
    "name": "ipython",
    "version": 3
   },
   "file_extension": ".py",
   "mimetype": "text/x-python",
   "name": "python",
   "nbconvert_exporter": "python",
   "pygments_lexer": "ipython3",
   "version": "3.12.7"
  }
 },
 "nbformat": 4,
 "nbformat_minor": 2
}
