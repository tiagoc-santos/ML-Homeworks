{
 "cells": [
  {
   "cell_type": "markdown",
   "metadata": {
    "vscode": {
     "languageId": "plaintext"
    }
   },
   "source": [
    "1."
   ]
  },
  {
   "cell_type": "code",
   "execution_count": 1,
   "metadata": {},
   "outputs": [
    {
     "name": "stdout",
     "output_type": "stream",
     "text": [
      "normal x1 cluster 1: 0.5708272360159223\n",
      "normal x1 cluster 2: 0.11227905885689009\n",
      "normal x2 cluster 1: 1.5853303669726957e-81\n",
      "normal x2 cluster 2: 0.004120432211475933\n",
      "normal x3 cluster 1: 1.9549523187539746\n",
      "normal x3 cluster 2: 1.9045384022712084e-14\n"
     ]
    }
   ],
   "source": [
    "import numpy as np\n",
    "from numpy import linalg\n",
    "from scipy.stats import multivariate_normal\n",
    "\n",
    "u1 = [2.472, -0.733]\n",
    "cov1 = [[0.784,-0.400],[-0.400,0.210]]\n",
    "u2 = [0.478,0.134]\n",
    "cov2 = [[0.428,-0.631],[-0.631,1.071]]\n",
    "x1 = [1, 0]\n",
    "x2 = [0, 2]\n",
    "x3 = [3, -1]\n",
    "normal1 = multivariate_normal(mean=u1, cov=cov1)\n",
    "normal2 = multivariate_normal(mean=u2, cov=cov2)\n",
    "\n",
    "probx1k1 = normal1.pdf(x1)\n",
    "print(\"normal x1 cluster 1:\",probx1k1)\n",
    "probx1k2 = normal2.pdf(x1)\n",
    "print(\"normal x1 cluster 2:\",probx1k2)\n",
    "\n",
    "prob2k1 = normal1.pdf(x2)\n",
    "print(\"normal x2 cluster 1:\",prob2k1)\n",
    "prob2k2 = normal2.pdf(x2)\n",
    "print(\"normal x2 cluster 2:\",prob2k2)\n",
    "\n",
    "prob3k1 = normal1.pdf(x3)\n",
    "print(\"normal x3 cluster 1:\",prob3k1)\n",
    "prob3k2 = normal2.pdf(x3)\n",
    "print(\"normal x3 cluster 2:\",prob3k2)\n",
    "\n",
    "\n"
   ]
  }
 ],
 "metadata": {
  "kernelspec": {
   "display_name": "Python 3",
   "language": "python",
   "name": "python3"
  },
  "language_info": {
   "codemirror_mode": {
    "name": "ipython",
    "version": 3
   },
   "file_extension": ".py",
   "mimetype": "text/x-python",
   "name": "python",
   "nbconvert_exporter": "python",
   "pygments_lexer": "ipython3",
   "version": "3.10.12"
  }
 },
 "nbformat": 4,
 "nbformat_minor": 2
}
